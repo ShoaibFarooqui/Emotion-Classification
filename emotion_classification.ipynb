{
  "cells": [
    {
      "cell_type": "markdown",
      "metadata": {
        "id": "view-in-github",
        "colab_type": "text"
      },
      "source": [
        "<a href=\"https://colab.research.google.com/github/ShoaibFarooqui/Emotion-Classification/blob/Shoaib/emotion_classification.ipynb\" target=\"_parent\"><img src=\"https://colab.research.google.com/assets/colab-badge.svg\" alt=\"Open In Colab\"/></a>"
      ]
    },
    {
      "cell_type": "markdown",
      "metadata": {
        "id": "6z5H2zoFaZWo"
      },
      "source": [
        "# Emotion Classification\n",
        "40 sample demonstration identifying Emotional States using a Recurrent Neural Network\n",
        "\n",
        "## Reference\n",
        " F. Samaria and A. Harter \n",
        "  \"Parameterisation of a stochastic model for human face identification\"\n",
        "  2nd IEEE Workshop on Applications of Computer Vision\n",
        "  December 1994, Sarasota (Florida)."
      ]
    },
    {
      "cell_type": "code",
      "execution_count": 25,
      "metadata": {
        "id": "ep73ttOsaZWq"
      },
      "outputs": [],
      "source": [
        "import zipfile\n",
        "import os\n",
        "import numpy as np\n",
        "import pandas as pd\n",
        "from PIL import Image\n",
        "from matplotlib import pyplot as plt"
      ]
    },
    {
      "cell_type": "code",
      "source": [
        "# compressed file extraction after zip import\n",
        "zip_path = '/content/data.zip'\n",
        "extract_path = '/content/extracted_files/'\n",
        "with zipfile.ZipFile(zip_path, 'r') as zip:\n",
        "  zip.extractall(extract_path)"
      ],
      "metadata": {
        "id": "pbFzLhBybaRs"
      },
      "execution_count": 26,
      "outputs": []
    },
    {
      "cell_type": "code",
      "source": [
        "# sample image display\n",
        "face_sample = Image.open('/content/extracted_files/data/s1/1.pgm')\n",
        "display(face_sample)"
      ],
      "metadata": {
        "colab": {
          "base_uri": "https://localhost:8080/",
          "height": 129
        },
        "id": "i_Z_7KVLbay5",
        "outputId": "c3e9e650-5820-4cc6-bb94-875fdbc8ebc7"
      },
      "execution_count": 27,
      "outputs": [
        {
          "output_type": "display_data",
          "data": {
            "text/plain": [
              "<PIL.PpmImagePlugin.PpmImageFile image mode=L size=92x112 at 0x7F00CAD15720>"
            ],
            "image/png": "[encoded data removed]"
          },
          "metadata": {}
        }
      ]
    },
    {
      "cell_type": "code",
      "source": [
        "# def function that opens a given sample (s# folder)\n",
        "def sample_col(sample_directory):\n",
        "  pgm_images = []\n",
        "  for pgm_image in os.scandir(sample_directory):\n",
        "    if pgm_image.name.endswith('.pgm'):\n",
        "      pgm_images.append(pgm_image.path)\n",
        "  \n",
        "  # for image_file in pgm_images:\n",
        "  #   Image.open(image_file).show()\n",
        "  \n",
        "  return pgm_images"
      ],
      "metadata": {
        "id": "Xonp7q8Nbde2"
      },
      "execution_count": 28,
      "outputs": []
    },
    {
      "cell_type": "code",
      "source": [
        "# demo sample_col() function\n",
        "sample_col('/content/extracted_files/data/s6')  "
      ],
      "metadata": {
        "colab": {
          "base_uri": "https://localhost:8080/"
        },
        "id": "jV0Y9sDtbga1",
        "outputId": "712b5bbc-08a7-4118-a76e-16a708df4173"
      },
      "execution_count": 29,
      "outputs": [
        {
          "output_type": "execute_result",
          "data": {
            "text/plain": [
              "['/content/extracted_files/data/s6/7.pgm',\n",
              " '/content/extracted_files/data/s6/8.pgm',\n",
              " '/content/extracted_files/data/s6/9.pgm',\n",
              " '/content/extracted_files/data/s6/6.pgm',\n",
              " '/content/extracted_files/data/s6/5.pgm',\n",
              " '/content/extracted_files/data/s6/3.pgm',\n",
              " '/content/extracted_files/data/s6/10.pgm',\n",
              " '/content/extracted_files/data/s6/1.pgm',\n",
              " '/content/extracted_files/data/s6/2.pgm',\n",
              " '/content/extracted_files/data/s6/4.pgm']"
            ]
          },
          "metadata": {},
          "execution_count": 29
        }
      ]
    },
    {
      "cell_type": "code",
      "source": [
        "# collect all images\n",
        "all_images = {}\n",
        "\n",
        "s_folder = np.arange(1,41,1)\n",
        "for i in s_folder:\n",
        "  s_folder_path = f'/content/extracted_files/data/s{i}'\n",
        "  sample_image_list = sample_col(s_folder_path)\n",
        "  all_images[f\"s{i}\"] = sample_image_list\n"
      ],
      "metadata": {
        "id": "7Z-pRu2kmhJ7"
      },
      "execution_count": 34,
      "outputs": []
    },
    {
      "cell_type": "code",
      "source": [
        "# combine all images for test data split\n",
        "all_images_unlisted = []\n",
        "\n",
        "for i in np.arange(1, 41):\n",
        "  all_images_unlisted.extend(all_images[f\"s{i}\"])\n"
      ],
      "metadata": {
        "id": "UVaC1Qnenewp"
      },
      "execution_count": 35,
      "outputs": []
    },
    {
      "cell_type": "code",
      "source": [
        "# convert all_images dictionary to dataframe 'df_combined'\n",
        "dfs = []\n",
        "for key, values in all_images.items():\n",
        "  df = pd.DataFrame({'Person ID (labels)': key, 'Image Path (features)': values})\n",
        "  dfs.append(df)\n",
        "df_combined = pd.concat(dfs, ignore_index=True)\n",
        "df_combined"
      ],
      "metadata": {
        "colab": {
          "base_uri": "https://localhost:8080/",
          "height": 424
        },
        "id": "8Tuk9qKL3ANr",
        "outputId": "000bf718-42e3-41e9-e693-5a9517e64ddd"
      },
      "execution_count": 57,
      "outputs": [
        {
          "output_type": "execute_result",
          "data": {
            "text/plain": [
              "    Person ID (labels)                     Image Path (features)\n",
              "0                   s1    /content/extracted_files/data/s1/7.pgm\n",
              "1                   s1    /content/extracted_files/data/s1/8.pgm\n",
              "2                   s1    /content/extracted_files/data/s1/9.pgm\n",
              "3                   s1    /content/extracted_files/data/s1/6.pgm\n",
              "4                   s1    /content/extracted_files/data/s1/5.pgm\n",
              "..                 ...                                       ...\n",
              "395                s40   /content/extracted_files/data/s40/3.pgm\n",
              "396                s40  /content/extracted_files/data/s40/10.pgm\n",
              "397                s40   /content/extracted_files/data/s40/1.pgm\n",
              "398                s40   /content/extracted_files/data/s40/2.pgm\n",
              "399                s40   /content/extracted_files/data/s40/4.pgm\n",
              "\n",
              "[400 rows x 2 columns]"
            ],
            "text/html": [
              "\n",
              "  <div id=\"df-790755a9-8f87-4c4a-9db1-2dff4e2984ab\">\n",
              "    <div class=\"colab-df-container\">\n",
              "      <div>\n",
              "<style scoped>\n",
              "    .dataframe tbody tr th:only-of-type {\n",
              "        vertical-align: middle;\n",
              "    }\n",
              "\n",
              "    .dataframe tbody tr th {\n",
              "        vertical-align: top;\n",
              "    }\n",
              "\n",
              "    .dataframe thead th {\n",
              "        text-align: right;\n",
              "    }\n",
              "</style>\n",
              "<table border=\"1\" class=\"dataframe\">\n",
              "  <thead>\n",
              "    <tr style=\"text-align: right;\">\n",
              "      <th></th>\n",
              "      <th>Person ID (labels)</th>\n",
              "      <th>Image Path (features)</th>\n",
              "    </tr>\n",
              "  </thead>\n",
              "  <tbody>\n",
              "    <tr>\n",
              "      <th>0</th>\n",
              "      <td>s1</td>\n",
              "      <td>/content/extracted_files/data/s1/7.pgm</td>\n",
              "    </tr>\n",
              "    <tr>\n",
              "      <th>1</th>\n",
              "      <td>s1</td>\n",
              "      <td>/content/extracted_files/data/s1/8.pgm</td>\n",
              "    </tr>\n",
              "    <tr>\n",
              "      <th>2</th>\n",
              "      <td>s1</td>\n",
              "      <td>/content/extracted_files/data/s1/9.pgm</td>\n",
              "    </tr>\n",
              "    <tr>\n",
              "      <th>3</th>\n",
              "      <td>s1</td>\n",
              "      <td>/content/extracted_files/data/s1/6.pgm</td>\n",
              "    </tr>\n",
              "    <tr>\n",
              "      <th>4</th>\n",
              "      <td>s1</td>\n",
              "      <td>/content/extracted_files/data/s1/5.pgm</td>\n",
              "    </tr>\n",
              "    <tr>\n",
              "      <th>...</th>\n",
              "      <td>...</td>\n",
              "      <td>...</td>\n",
              "    </tr>\n",
              "    <tr>\n",
              "      <th>395</th>\n",
              "      <td>s40</td>\n",
              "      <td>/content/extracted_files/data/s40/3.pgm</td>\n",
              "    </tr>\n",
              "    <tr>\n",
              "      <th>396</th>\n",
              "      <td>s40</td>\n",
              "      <td>/content/extracted_files/data/s40/10.pgm</td>\n",
              "    </tr>\n",
              "    <tr>\n",
              "      <th>397</th>\n",
              "      <td>s40</td>\n",
              "      <td>/content/extracted_files/data/s40/1.pgm</td>\n",
              "    </tr>\n",
              "    <tr>\n",
              "      <th>398</th>\n",
              "      <td>s40</td>\n",
              "      <td>/content/extracted_files/data/s40/2.pgm</td>\n",
              "    </tr>\n",
              "    <tr>\n",
              "      <th>399</th>\n",
              "      <td>s40</td>\n",
              "      <td>/content/extracted_files/data/s40/4.pgm</td>\n",
              "    </tr>\n",
              "  </tbody>\n",
              "</table>\n",
              "<p>400 rows × 2 columns</p>\n",
              "</div>\n",
              "      <button class=\"colab-df-convert\" onclick=\"convertToInteractive('df-790755a9-8f87-4c4a-9db1-2dff4e2984ab')\"\n",
              "              title=\"Convert this dataframe to an interactive table.\"\n",
              "              style=\"display:none;\">\n",
              "        \n",
              "  <svg xmlns=\"http://www.w3.org/2000/svg\" height=\"24px\"viewBox=\"0 0 24 24\"\n",
              "       width=\"24px\">\n",
              "    <path d=\"M0 0h24v24H0V0z\" fill=\"none\"/>\n",
              "    <path d=\"M18.56 5.44l.94 2.06.94-2.06 2.06-.94-2.06-.94-.94-2.06-.94 2.06-2.06.94zm-11 1L8.5 8.5l.94-2.06 2.06-.94-2.06-.94L8.5 2.5l-.94 2.06-2.06.94zm10 10l.94 2.06.94-2.06 2.06-.94-2.06-.94-.94-2.06-.94 2.06-2.06.94z\"/><path d=\"M17.41 7.96l-1.37-1.37c-.4-.4-.92-.59-1.43-.59-.52 0-1.04.2-1.43.59L10.3 9.45l-7.72 7.72c-.78.78-.78 2.05 0 2.83L4 21.41c.39.39.9.59 1.41.59.51 0 1.02-.2 1.41-.59l7.78-7.78 2.81-2.81c.8-.78.8-2.07 0-2.86zM5.41 20L4 18.59l7.72-7.72 1.47 1.35L5.41 20z\"/>\n",
              "  </svg>\n",
              "      </button>\n",
              "      \n",
              "  <style>\n",
              "    .colab-df-container {\n",
              "      display:flex;\n",
              "      flex-wrap:wrap;\n",
              "      gap: 12px;\n",
              "    }\n",
              "\n",
              "    .colab-df-convert {\n",
              "      background-color: #E8F0FE;\n",
              "      border: none;\n",
              "      border-radius: 50%;\n",
              "      cursor: pointer;\n",
              "      display: none;\n",
              "      fill: #1967D2;\n",
              "      height: 32px;\n",
              "      padding: 0 0 0 0;\n",
              "      width: 32px;\n",
              "    }\n",
              "\n",
              "    .colab-df-convert:hover {\n",
              "      background-color: #E2EBFA;\n",
              "      box-shadow: 0px 1px 2px rgba(60, 64, 67, 0.3), 0px 1px 3px 1px rgba(60, 64, 67, 0.15);\n",
              "      fill: #174EA6;\n",
              "    }\n",
              "\n",
              "    [theme=dark] .colab-df-convert {\n",
              "      background-color: #3B4455;\n",
              "      fill: #D2E3FC;\n",
              "    }\n",
              "\n",
              "    [theme=dark] .colab-df-convert:hover {\n",
              "      background-color: #434B5C;\n",
              "      box-shadow: 0px 1px 3px 1px rgba(0, 0, 0, 0.15);\n",
              "      filter: drop-shadow(0px 1px 2px rgba(0, 0, 0, 0.3));\n",
              "      fill: #FFFFFF;\n",
              "    }\n",
              "  </style>\n",
              "\n",
              "      <script>\n",
              "        const buttonEl =\n",
              "          document.querySelector('#df-790755a9-8f87-4c4a-9db1-2dff4e2984ab button.colab-df-convert');\n",
              "        buttonEl.style.display =\n",
              "          google.colab.kernel.accessAllowed ? 'block' : 'none';\n",
              "\n",
              "        async function convertToInteractive(key) {\n",
              "          const element = document.querySelector('#df-790755a9-8f87-4c4a-9db1-2dff4e2984ab');\n",
              "          const dataTable =\n",
              "            await google.colab.kernel.invokeFunction('convertToInteractive',\n",
              "                                                     [key], {});\n",
              "          if (!dataTable) return;\n",
              "\n",
              "          const docLinkHtml = 'Like what you see? Visit the ' +\n",
              "            '<a target=\"_blank\" href=https://colab.research.google.com/notebooks/data_table.ipynb>data table notebook</a>'\n",
              "            + ' to learn more about interactive tables.';\n",
              "          element.innerHTML = '';\n",
              "          dataTable['output_type'] = 'display_data';\n",
              "          await google.colab.output.renderOutput(dataTable, element);\n",
              "          const docLink = document.createElement('div');\n",
              "          docLink.innerHTML = docLinkHtml;\n",
              "          element.appendChild(docLink);\n",
              "        }\n",
              "      </script>\n",
              "    </div>\n",
              "  </div>\n",
              "  "
            ]
          },
          "metadata": {},
          "execution_count": 57
        }
      ]
    },
    {
      "cell_type": "markdown",
      "source": [
        "### Dataframe \"df\" contains the labels for each individual.\n",
        "\n",
        "Splitting Training and testing dataset is indiscriminant of Person ID.\n",
        "\n",
        "The goal of the classification model is to successfully identify photos of individuals by their Person ID."
      ],
      "metadata": {
        "id": "97F9SFL31tpR"
      }
    },
    {
      "cell_type": "code",
      "source": [
        "# splitting data to features and target"
      ],
      "metadata": {
        "id": "mmKJDYxk2RoL"
      },
      "execution_count": null,
      "outputs": []
    }
  ],
  "metadata": {
    "kernelspec": {
      "display_name": "tf_env",
      "language": "python",
      "name": "python3"
    },
    "language_info": {
      "codemirror_mode": {
        "name": "ipython",
        "version": 3
      },
      "file_extension": ".py",
      "mimetype": "text/x-python",
      "name": "python",
      "nbconvert_exporter": "python",
      "pygments_lexer": "ipython3",
      "version": "3.10.11"
    },
    "orig_nbformat": 4,
    "colab": {
      "provenance": [],
      "include_colab_link": true
    }
  },
  "nbformat": 4,
  "nbformat_minor": 0
}