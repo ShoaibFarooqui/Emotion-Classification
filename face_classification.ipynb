{
  "cells": [
    {
      "cell_type": "markdown",
      "metadata": {
        "id": "view-in-github",
        "colab_type": "text"
      },
      "source": [
        "<a href=\"https://colab.research.google.com/github/ShoaibFarooqui/Face-Classification/blob/Shoaib/face_classification.ipynb\" target=\"_parent\"><img src=\"https://colab.research.google.com/assets/colab-badge.svg\" alt=\"Open In Colab\"/></a>"
      ]
    },
    {
      "cell_type": "markdown",
      "metadata": {
        "id": "6z5H2zoFaZWo"
      },
      "source": [
        "# Face Classification\n",
        "40 sample demonstration identifying Individuals using a Recurrent Neural Network\n",
        "\n",
        "## Reference\n",
        " F. Samaria and A. Harter \n",
        "  \"Parameterisation of a stochastic model for human face identification\"\n",
        "  2nd IEEE Workshop on Applications of Computer Vision\n",
        "  December 1994, Sarasota (Florida)."
      ]
    },
    {
      "cell_type": "code",
      "execution_count": 1,
      "metadata": {
        "id": "ep73ttOsaZWq"
      },
      "outputs": [],
      "source": [
        "# Data Import\n",
        "import zipfile\n",
        "import os\n",
        "import numpy as np\n",
        "import pandas as pd\n",
        "from PIL import Image\n",
        "from matplotlib import pyplot as plt\n",
        "np.random.seed(1)\n",
        "\n",
        "# Machine Learning\n",
        "import tensorflow as tf\n",
        "from tensorflow import keras\n",
        "from tensorflow.keras.models import Sequential\n",
        "from tensorflow.keras.utils import to_categorical\n",
        "from tensorflow.keras.layers import Dense\n",
        "from tensorflow.keras.models import load_model\n",
        "from sklearn.preprocessing import MinMaxScaler\n",
        "from sklearn.model_selection import train_test_split\n",
        "tf.config.run_functions_eagerly(True)\n",
        "\n",
        "# Model Visualization\n",
        "%matplotlib inline\n",
        "from IPython.display import Image as img\n",
        "from IPython.display import SVG"
      ]
    },
    {
      "cell_type": "code",
      "source": [
        "# compressed file extraction after zip import\n",
        "zip_path = '/content/data.zip'\n",
        "extract_path = '/content/extracted_files/'\n",
        "with zipfile.ZipFile(zip_path, 'r') as zip:\n",
        "  zip.extractall(extract_path)"
      ],
      "metadata": {
        "id": "pbFzLhBybaRs"
      },
      "execution_count": 2,
      "outputs": []
    },
    {
      "cell_type": "code",
      "source": [
        "# sample image display\n",
        "face_sample = Image.open('/content/extracted_files/data/s1/1.pgm')\n",
        "display(face_sample)\n",
        "print(f'{face_sample.size}')"
      ],
      "metadata": {
        "colab": {
          "base_uri": "https://localhost:8080/",
          "height": 147
        },
        "id": "i_Z_7KVLbay5",
        "outputId": "510a706e-3bd4-42d8-889f-ce6bdd77c27a"
      },
      "execution_count": 3,
      "outputs": [
        {
          "output_type": "display_data",
          "data": {
            "text/plain": [
              "<PIL.PpmImagePlugin.PpmImageFile image mode=L size=92x112 at 0x7FE1E769B1C0>"
            ],
            "image/png": "[encoded data removed]"
          },
          "metadata": {}
        },
        {
          "output_type": "stream",
          "name": "stdout",
          "text": [
            "(92, 112)\n"
          ]
        }
      ]
    },
    {
      "cell_type": "code",
      "source": [
        "# convert to color\n",
        "face_sample.save('pngTest.png')\n",
        "display(face_sample)"
      ],
      "metadata": {
        "colab": {
          "base_uri": "https://localhost:8080/",
          "height": 129
        },
        "id": "nLTNW9La8WwR",
        "outputId": "6c3c56e0-bec0-472f-d04b-6cb9723c6d73"
      },
      "execution_count": 4,
      "outputs": [
        {
          "output_type": "display_data",
          "data": {
            "text/plain": [
              "<PIL.PpmImagePlugin.PpmImageFile image mode=L size=92x112 at 0x7FE1E769B1C0>"
            ],
            "image/png": "[encoded data removed]"
          },
          "metadata": {}
        }
      ]
    },
    {
      "cell_type": "code",
      "source": [
        "# def function that opens a given sample (s# folder)\n",
        "def sample_collect(sample_directory):\n",
        "  pgm_images = []\n",
        "  for pgm_image in os.scandir(sample_directory):\n",
        "    if pgm_image.name.endswith('.pgm'):\n",
        "      pgm_images.append(pgm_image.path)\n",
        "  \n",
        "  # for image_file in pgm_images:\n",
        "  #   Image.open(image_file).show()\n",
        "  \n",
        "  return pgm_images"
      ],
      "metadata": {
        "id": "Xonp7q8Nbde2"
      },
      "execution_count": 5,
      "outputs": []
    },
    {
      "cell_type": "code",
      "source": [
        "# demo sample_col() function\n",
        "sample_collect('/content/extracted_files/data/s6')  "
      ],
      "metadata": {
        "colab": {
          "base_uri": "https://localhost:8080/"
        },
        "id": "jV0Y9sDtbga1",
        "outputId": "17f9dec0-d53c-413b-d31b-1b55e94a04d6"
      },
      "execution_count": 6,
      "outputs": [
        {
          "output_type": "execute_result",
          "data": {
            "text/plain": [
              "['/content/extracted_files/data/s6/6.pgm',\n",
              " '/content/extracted_files/data/s6/7.pgm',\n",
              " '/content/extracted_files/data/s6/3.pgm',\n",
              " '/content/extracted_files/data/s6/8.pgm',\n",
              " '/content/extracted_files/data/s6/9.pgm',\n",
              " '/content/extracted_files/data/s6/10.pgm',\n",
              " '/content/extracted_files/data/s6/5.pgm',\n",
              " '/content/extracted_files/data/s6/2.pgm',\n",
              " '/content/extracted_files/data/s6/4.pgm',\n",
              " '/content/extracted_files/data/s6/1.pgm']"
            ]
          },
          "metadata": {},
          "execution_count": 6
        }
      ]
    },
    {
      "cell_type": "code",
      "source": [
        "# collect all images\n",
        "all_images = {}\n",
        "\n",
        "s_folder = np.arange(1,41,1)\n",
        "for i in s_folder:\n",
        "  s_folder_path = f'/content/extracted_files/data/s{i}'\n",
        "  sample_image_list = sample_collect(s_folder_path)\n",
        "  all_images[i] = sample_image_list\n"
      ],
      "metadata": {
        "id": "7Z-pRu2kmhJ7"
      },
      "execution_count": 7,
      "outputs": []
    },
    {
      "cell_type": "code",
      "source": [
        "# convert all_images dictionary to dataframe 'df_combined'\n",
        "dfs = []\n",
        "for key, values in all_images.items():\n",
        "  dframe = pd.DataFrame({'Person ID (labels)': key, 'Image Path (features)': values})\n",
        "  dfs.append(dframe)\n",
        "df = pd.concat(dfs, ignore_index=True)\n",
        "df"
      ],
      "metadata": {
        "colab": {
          "base_uri": "https://localhost:8080/",
          "height": 423
        },
        "id": "8Tuk9qKL3ANr",
        "outputId": "eb877c7f-b7fb-4eac-8941-0795c8ae8a6c"
      },
      "execution_count": 8,
      "outputs": [
        {
          "output_type": "execute_result",
          "data": {
            "text/plain": [
              "     Person ID (labels)                     Image Path (features)\n",
              "0                     1    /content/extracted_files/data/s1/6.pgm\n",
              "1                     1    /content/extracted_files/data/s1/7.pgm\n",
              "2                     1    /content/extracted_files/data/s1/3.pgm\n",
              "3                     1    /content/extracted_files/data/s1/8.pgm\n",
              "4                     1    /content/extracted_files/data/s1/9.pgm\n",
              "..                  ...                                       ...\n",
              "395                  40  /content/extracted_files/data/s40/10.pgm\n",
              "396                  40   /content/extracted_files/data/s40/5.pgm\n",
              "397                  40   /content/extracted_files/data/s40/2.pgm\n",
              "398                  40   /content/extracted_files/data/s40/4.pgm\n",
              "399                  40   /content/extracted_files/data/s40/1.pgm\n",
              "\n",
              "[400 rows x 2 columns]"
            ],
            "text/html": [
              "\n",
              "  <div id=\"df-6572c0fd-2cd4-42f9-834b-d3d49c56154b\">\n",
              "    <div class=\"colab-df-container\">\n",
              "      <div>\n",
              "<style scoped>\n",
              "    .dataframe tbody tr th:only-of-type {\n",
              "        vertical-align: middle;\n",
              "    }\n",
              "\n",
              "    .dataframe tbody tr th {\n",
              "        vertical-align: top;\n",
              "    }\n",
              "\n",
              "    .dataframe thead th {\n",
              "        text-align: right;\n",
              "    }\n",
              "</style>\n",
              "<table border=\"1\" class=\"dataframe\">\n",
              "  <thead>\n",
              "    <tr style=\"text-align: right;\">\n",
              "      <th></th>\n",
              "      <th>Person ID (labels)</th>\n",
              "      <th>Image Path (features)</th>\n",
              "    </tr>\n",
              "  </thead>\n",
              "  <tbody>\n",
              "    <tr>\n",
              "      <th>0</th>\n",
              "      <td>1</td>\n",
              "      <td>/content/extracted_files/data/s1/6.pgm</td>\n",
              "    </tr>\n",
              "    <tr>\n",
              "      <th>1</th>\n",
              "      <td>1</td>\n",
              "      <td>/content/extracted_files/data/s1/7.pgm</td>\n",
              "    </tr>\n",
              "    <tr>\n",
              "      <th>2</th>\n",
              "      <td>1</td>\n",
              "      <td>/content/extracted_files/data/s1/3.pgm</td>\n",
              "    </tr>\n",
              "    <tr>\n",
              "      <th>3</th>\n",
              "      <td>1</td>\n",
              "      <td>/content/extracted_files/data/s1/8.pgm</td>\n",
              "    </tr>\n",
              "    <tr>\n",
              "      <th>4</th>\n",
              "      <td>1</td>\n",
              "      <td>/content/extracted_files/data/s1/9.pgm</td>\n",
              "    </tr>\n",
              "    <tr>\n",
              "      <th>...</th>\n",
              "      <td>...</td>\n",
              "      <td>...</td>\n",
              "    </tr>\n",
              "    <tr>\n",
              "      <th>395</th>\n",
              "      <td>40</td>\n",
              "      <td>/content/extracted_files/data/s40/10.pgm</td>\n",
              "    </tr>\n",
              "    <tr>\n",
              "      <th>396</th>\n",
              "      <td>40</td>\n",
              "      <td>/content/extracted_files/data/s40/5.pgm</td>\n",
              "    </tr>\n",
              "    <tr>\n",
              "      <th>397</th>\n",
              "      <td>40</td>\n",
              "      <td>/content/extracted_files/data/s40/2.pgm</td>\n",
              "    </tr>\n",
              "    <tr>\n",
              "      <th>398</th>\n",
              "      <td>40</td>\n",
              "      <td>/content/extracted_files/data/s40/4.pgm</td>\n",
              "    </tr>\n",
              "    <tr>\n",
              "      <th>399</th>\n",
              "      <td>40</td>\n",
              "      <td>/content/extracted_files/data/s40/1.pgm</td>\n",
              "    </tr>\n",
              "  </tbody>\n",
              "</table>\n",
              "<p>400 rows × 2 columns</p>\n",
              "</div>\n",
              "      <button class=\"colab-df-convert\" onclick=\"convertToInteractive('df-6572c0fd-2cd4-42f9-834b-d3d49c56154b')\"\n",
              "              title=\"Convert this dataframe to an interactive table.\"\n",
              "              style=\"display:none;\">\n",
              "        \n",
              "  <svg xmlns=\"http://www.w3.org/2000/svg\" height=\"24px\"viewBox=\"0 0 24 24\"\n",
              "       width=\"24px\">\n",
              "    <path d=\"M0 0h24v24H0V0z\" fill=\"none\"/>\n",
              "    <path d=\"M18.56 5.44l.94 2.06.94-2.06 2.06-.94-2.06-.94-.94-2.06-.94 2.06-2.06.94zm-11 1L8.5 8.5l.94-2.06 2.06-.94-2.06-.94L8.5 2.5l-.94 2.06-2.06.94zm10 10l.94 2.06.94-2.06 2.06-.94-2.06-.94-.94-2.06-.94 2.06-2.06.94z\"/><path d=\"M17.41 7.96l-1.37-1.37c-.4-.4-.92-.59-1.43-.59-.52 0-1.04.2-1.43.59L10.3 9.45l-7.72 7.72c-.78.78-.78 2.05 0 2.83L4 21.41c.39.39.9.59 1.41.59.51 0 1.02-.2 1.41-.59l7.78-7.78 2.81-2.81c.8-.78.8-2.07 0-2.86zM5.41 20L4 18.59l7.72-7.72 1.47 1.35L5.41 20z\"/>\n",
              "  </svg>\n",
              "      </button>\n",
              "      \n",
              "  <style>\n",
              "    .colab-df-container {\n",
              "      display:flex;\n",
              "      flex-wrap:wrap;\n",
              "      gap: 12px;\n",
              "    }\n",
              "\n",
              "    .colab-df-convert {\n",
              "      background-color: #E8F0FE;\n",
              "      border: none;\n",
              "      border-radius: 50%;\n",
              "      cursor: pointer;\n",
              "      display: none;\n",
              "      fill: #1967D2;\n",
              "      height: 32px;\n",
              "      padding: 0 0 0 0;\n",
              "      width: 32px;\n",
              "    }\n",
              "\n",
              "    .colab-df-convert:hover {\n",
              "      background-color: #E2EBFA;\n",
              "      box-shadow: 0px 1px 2px rgba(60, 64, 67, 0.3), 0px 1px 3px 1px rgba(60, 64, 67, 0.15);\n",
              "      fill: #174EA6;\n",
              "    }\n",
              "\n",
              "    [theme=dark] .colab-df-convert {\n",
              "      background-color: #3B4455;\n",
              "      fill: #D2E3FC;\n",
              "    }\n",
              "\n",
              "    [theme=dark] .colab-df-convert:hover {\n",
              "      background-color: #434B5C;\n",
              "      box-shadow: 0px 1px 3px 1px rgba(0, 0, 0, 0.15);\n",
              "      filter: drop-shadow(0px 1px 2px rgba(0, 0, 0, 0.3));\n",
              "      fill: #FFFFFF;\n",
              "    }\n",
              "  </style>\n",
              "\n",
              "      <script>\n",
              "        const buttonEl =\n",
              "          document.querySelector('#df-6572c0fd-2cd4-42f9-834b-d3d49c56154b button.colab-df-convert');\n",
              "        buttonEl.style.display =\n",
              "          google.colab.kernel.accessAllowed ? 'block' : 'none';\n",
              "\n",
              "        async function convertToInteractive(key) {\n",
              "          const element = document.querySelector('#df-6572c0fd-2cd4-42f9-834b-d3d49c56154b');\n",
              "          const dataTable =\n",
              "            await google.colab.kernel.invokeFunction('convertToInteractive',\n",
              "                                                     [key], {});\n",
              "          if (!dataTable) return;\n",
              "\n",
              "          const docLinkHtml = 'Like what you see? Visit the ' +\n",
              "            '<a target=\"_blank\" href=https://colab.research.google.com/notebooks/data_table.ipynb>data table notebook</a>'\n",
              "            + ' to learn more about interactive tables.';\n",
              "          element.innerHTML = '';\n",
              "          dataTable['output_type'] = 'display_data';\n",
              "          await google.colab.output.renderOutput(dataTable, element);\n",
              "          const docLink = document.createElement('div');\n",
              "          docLink.innerHTML = docLinkHtml;\n",
              "          element.appendChild(docLink);\n",
              "        }\n",
              "      </script>\n",
              "    </div>\n",
              "  </div>\n",
              "  "
            ]
          },
          "metadata": {},
          "execution_count": 8
        }
      ]
    },
    {
      "cell_type": "code",
      "source": [
        "# find smallest image\n",
        "res=[]\n",
        "\n",
        "for i in df['Image Path (features)']:\n",
        "  resolution = Image.open(i).size\n",
        "  res.append(resolution)\n",
        "\n",
        "unique_res = set(res)\n",
        "print(unique_res)"
      ],
      "metadata": {
        "colab": {
          "base_uri": "https://localhost:8080/"
        },
        "id": "FUOCnfWqGVUY",
        "outputId": "795f7c1d-91a2-426c-8d16-180a14899c6b"
      },
      "execution_count": 9,
      "outputs": [
        {
          "output_type": "stream",
          "name": "stdout",
          "text": [
            "{(92, 112)}\n"
          ]
        }
      ]
    },
    {
      "cell_type": "markdown",
      "source": [
        "...all the images are already the same size"
      ],
      "metadata": {
        "id": "jB4cVxY1H-Ig"
      }
    },
    {
      "cell_type": "markdown",
      "source": [
        "## Lossless compression Function compressData() to one dimensional array of normalized greyscale"
      ],
      "metadata": {
        "id": "s_VJhbYSn8WY"
      }
    },
    {
      "cell_type": "code",
      "source": [
        "# Iterate over every photo for pixel array\n",
        "def compressData(List_of_Dir):\n",
        "\n",
        "  one_dimensional_array_list = []\n",
        "  image_size = (92, 112)\n",
        "\n",
        "  for photo_path in List_of_Dir:\n",
        "    image = Image.open(photo_path)\n",
        "    pixel_arr = np.array(image)\n",
        "\n",
        "      # normalization\n",
        "    pixel_arr = pixel_arr / 255.0\n",
        "\n",
        "    # Flatten to one dimension\n",
        "    pixel_count = pixel_arr.shape[0] * pixel_arr.shape[1]\n",
        "    pixel_arr = pixel_arr.reshape(pixel_count)\n",
        "    one_dimensional_array_list.append(pixel_arr)\n",
        "  \n",
        "  data_prep = np.array(one_dimensional_array_list)\n",
        "  return data_prep\n"
      ],
      "metadata": {
        "id": "IU-i8pcfEQeD"
      },
      "execution_count": 10,
      "outputs": []
    },
    {
      "cell_type": "markdown",
      "source": [
        "## One Hot Encoding Labels\n",
        "Labels for training and dataset are encoded to a binary array for every class.\n",
        "\n",
        "### Why `labels-1` ?\n",
        "\n",
        "The num_classes argument specifies 40 classes but the provided arrays' indices on unique labels is listed from 0 to 39. Not 1 to 40"
      ],
      "metadata": {
        "id": "eCUJWJt0ovdG"
      }
    },
    {
      "cell_type": "code",
      "source": [
        "def encoder(labels):\n",
        "  labels_encoded = to_categorical(labels-1)\n",
        "  return labels_encoded"
      ],
      "metadata": {
        "id": "ElZ_M1BNnxFq"
      },
      "execution_count": 11,
      "outputs": []
    },
    {
      "cell_type": "code",
      "source": [
        "# Split test and train image paths\n",
        "X = compressData(df[\"Image Path (features)\"])\n",
        "y = encoder(df['Person ID (labels)'])\n",
        "X_train, X_test, y_train, y_test = train_test_split(X, y, random_state=1)\n",
        "\n",
        "def model_data():\n",
        "  print(f'''\n",
        "    Training Data Info:\n",
        "\n",
        "    Training Dataset\n",
        "    Features Data Shape: {X_train.shape}\n",
        "    Labels Data Shape: {y_train.shape}\n",
        "\n",
        "    Test Dataset\n",
        "    Features Data Shape: {X_test.shape}\n",
        "    Labels Data Shape: {y_test.shape}\n",
        "  ''')\n",
        "\n",
        "model_data()"
      ],
      "metadata": {
        "colab": {
          "base_uri": "https://localhost:8080/"
        },
        "id": "NV9OLZGKKRII",
        "outputId": "5e657571-2287-4389-d7d2-fce4797c6d6c"
      },
      "execution_count": 12,
      "outputs": [
        {
          "output_type": "stream",
          "name": "stdout",
          "text": [
            "\n",
            "    Training Data Info:\n",
            "\n",
            "    Training Dataset\n",
            "    Features Data Shape: (300, 10304)\n",
            "    Labels Data Shape: (300, 40)\n",
            "\n",
            "    Test Dataset\n",
            "    Features Data Shape: (100, 10304)\n",
            "    Labels Data Shape: (100, 40)\n",
            "  \n"
          ]
        }
      ]
    },
    {
      "cell_type": "markdown",
      "source": [
        "## One Hot Encoding Labels"
      ],
      "metadata": {
        "id": "oJ0grpeIePXO"
      }
    },
    {
      "cell_type": "code",
      "source": [
        "x = np.array([[1,2,3],[4,5,6]])\n",
        "\n",
        "print(f'{x.shape}')\n",
        "\n",
        "print(x)\n",
        "\n",
        "print(f'{[row[1] for row in x]}')"
      ],
      "metadata": {
        "colab": {
          "base_uri": "https://localhost:8080/"
        },
        "id": "mM3EBdVnZNli",
        "outputId": "e5042f45-9b37-4aca-f307-1ebb9ff50868"
      },
      "execution_count": 13,
      "outputs": [
        {
          "output_type": "stream",
          "name": "stdout",
          "text": [
            "(2, 3)\n",
            "[[1 2 3]\n",
            " [4 5 6]]\n",
            "[2, 5]\n"
          ]
        }
      ]
    },
    {
      "cell_type": "code",
      "source": [
        "labels = np.unique(y_train)\n",
        "print(y_train.shape)\n",
        "print(labels)\n",
        "len([label for label in labels])"
      ],
      "metadata": {
        "colab": {
          "base_uri": "https://localhost:8080/"
        },
        "id": "EMZjV7UPcJZu",
        "outputId": "029c3d28-795a-48a6-b489-e9d9f8273b62"
      },
      "execution_count": 14,
      "outputs": [
        {
          "output_type": "stream",
          "name": "stdout",
          "text": [
            "(300, 40)\n",
            "[0. 1.]\n"
          ]
        },
        {
          "output_type": "execute_result",
          "data": {
            "text/plain": [
              "2"
            ]
          },
          "metadata": {},
          "execution_count": 14
        }
      ]
    },
    {
      "cell_type": "markdown",
      "source": [
        "## Creating the Model\n",
        "\n"
      ],
      "metadata": {
        "id": "F5jor1TiEJXH"
      }
    },
    {
      "cell_type": "code",
      "source": [
        "model = Sequential()"
      ],
      "metadata": {
        "id": "I9k-L5u-U_Ip"
      },
      "execution_count": 16,
      "outputs": []
    },
    {
      "cell_type": "code",
      "source": [
        "# First hidden layer\n",
        "model.add(Dense(100, activation='relu', input_dim=10304))"
      ],
      "metadata": {
        "id": "gmdM7yDMVE1R"
      },
      "execution_count": 17,
      "outputs": []
    },
    {
      "cell_type": "code",
      "source": [
        "# Second hidden layer\n",
        "model.add(Dense(100, activation='relu'))"
      ],
      "metadata": {
        "id": "C1RKFkwcWIBv"
      },
      "execution_count": 18,
      "outputs": []
    },
    {
      "cell_type": "code",
      "source": [
        "# Output layer\n",
        "model.add(Dense(40, activation='softmax'))"
      ],
      "metadata": {
        "id": "nODOkCPkWRLo"
      },
      "execution_count": 19,
      "outputs": []
    },
    {
      "cell_type": "code",
      "source": [
        "model.summary()"
      ],
      "metadata": {
        "colab": {
          "base_uri": "https://localhost:8080/"
        },
        "id": "zHtMCl7wWmLY",
        "outputId": "5a0328c7-55be-4585-c393-cc2b216cdbae"
      },
      "execution_count": 20,
      "outputs": [
        {
          "output_type": "stream",
          "name": "stdout",
          "text": [
            "Model: \"sequential\"\n",
            "_________________________________________________________________\n",
            " Layer (type)                Output Shape              Param #   \n",
            "=================================================================\n",
            " dense (Dense)               (None, 100)               1030500   \n",
            "                                                                 \n",
            " dense_1 (Dense)             (None, 100)               10100     \n",
            "                                                                 \n",
            " dense_2 (Dense)             (None, 40)                4040      \n",
            "                                                                 \n",
            "=================================================================\n",
            "Total params: 1,044,640\n",
            "Trainable params: 1,044,640\n",
            "Non-trainable params: 0\n",
            "_________________________________________________________________\n"
          ]
        }
      ]
    },
    {
      "cell_type": "markdown",
      "source": [
        "## Compile and Train Our Model"
      ],
      "metadata": {
        "id": "0zreVEYdWr8s"
      }
    },
    {
      "cell_type": "code",
      "source": [
        "model.compile(optimizer='adam',\n",
        "              loss='categorical_crossentropy',\n",
        "              metrics=['accuracy'])"
      ],
      "metadata": {
        "id": "gPjcCGO8Wumn"
      },
      "execution_count": 21,
      "outputs": []
    },
    {
      "cell_type": "code",
      "source": [
        "model.fit(\n",
        "    X_train,\n",
        "    y_train,\n",
        "    epochs=50,\n",
        "    shuffle=True,\n",
        "    verbose=2\n",
        ")\n",
        "\n"
      ],
      "metadata": {
        "id": "OsMT52WKW3hC",
        "colab": {
          "base_uri": "https://localhost:8080/"
        },
        "outputId": "7f7f9c0f-d3d2-4e1f-bc51-900f3782973c"
      },
      "execution_count": 22,
      "outputs": [
        {
          "output_type": "stream",
          "name": "stderr",
          "text": [
            "/usr/local/lib/python3.10/dist-packages/tensorflow/python/data/ops/structured_function.py:254: UserWarning: Even though the `tf.config.experimental_run_functions_eagerly` option is set, this option does not apply to tf.data functions. To force eager execution of tf.data functions, please use `tf.data.experimental.enable_debug_mode()`.\n",
            "  warnings.warn(\n"
          ]
        },
        {
          "output_type": "stream",
          "name": "stdout",
          "text": [
            "Epoch 1/50\n",
            "10/10 - 1s - loss: 4.1199 - accuracy: 0.0233 - 1s/epoch - 150ms/step\n",
            "Epoch 2/50\n",
            "10/10 - 1s - loss: 3.6456 - accuracy: 0.0667 - 1s/epoch - 138ms/step\n",
            "Epoch 3/50\n",
            "10/10 - 1s - loss: 3.4674 - accuracy: 0.0833 - 930ms/epoch - 93ms/step\n",
            "Epoch 4/50\n",
            "10/10 - 1s - loss: 3.2975 - accuracy: 0.1267 - 950ms/epoch - 95ms/step\n",
            "Epoch 5/50\n",
            "10/10 - 1s - loss: 3.1264 - accuracy: 0.1567 - 1s/epoch - 131ms/step\n",
            "Epoch 6/50\n",
            "10/10 - 2s - loss: 2.9020 - accuracy: 0.1867 - 2s/epoch - 152ms/step\n",
            "Epoch 7/50\n",
            "10/10 - 2s - loss: 2.6040 - accuracy: 0.2633 - 2s/epoch - 157ms/step\n",
            "Epoch 8/50\n",
            "10/10 - 1s - loss: 2.2813 - accuracy: 0.3633 - 688ms/epoch - 69ms/step\n",
            "Epoch 9/50\n",
            "10/10 - 1s - loss: 1.9255 - accuracy: 0.5333 - 540ms/epoch - 54ms/step\n",
            "Epoch 10/50\n",
            "10/10 - 1s - loss: 1.7565 - accuracy: 0.5633 - 553ms/epoch - 55ms/step\n",
            "Epoch 11/50\n",
            "10/10 - 1s - loss: 1.5913 - accuracy: 0.5733 - 615ms/epoch - 62ms/step\n",
            "Epoch 12/50\n",
            "10/10 - 1s - loss: 1.3188 - accuracy: 0.6600 - 573ms/epoch - 57ms/step\n",
            "Epoch 13/50\n",
            "10/10 - 1s - loss: 1.0875 - accuracy: 0.7467 - 570ms/epoch - 57ms/step\n",
            "Epoch 14/50\n",
            "10/10 - 1s - loss: 0.9441 - accuracy: 0.8000 - 535ms/epoch - 54ms/step\n",
            "Epoch 15/50\n",
            "10/10 - 1s - loss: 0.8439 - accuracy: 0.8200 - 555ms/epoch - 55ms/step\n",
            "Epoch 16/50\n",
            "10/10 - 1s - loss: 0.7469 - accuracy: 0.8267 - 550ms/epoch - 55ms/step\n",
            "Epoch 17/50\n",
            "10/10 - 1s - loss: 0.6602 - accuracy: 0.8700 - 555ms/epoch - 55ms/step\n",
            "Epoch 18/50\n",
            "10/10 - 1s - loss: 0.5943 - accuracy: 0.8567 - 552ms/epoch - 55ms/step\n",
            "Epoch 19/50\n",
            "10/10 - 1s - loss: 0.5680 - accuracy: 0.8900 - 571ms/epoch - 57ms/step\n",
            "Epoch 20/50\n",
            "10/10 - 1s - loss: 0.4958 - accuracy: 0.9033 - 529ms/epoch - 53ms/step\n",
            "Epoch 21/50\n",
            "10/10 - 1s - loss: 0.4561 - accuracy: 0.8933 - 546ms/epoch - 55ms/step\n",
            "Epoch 22/50\n",
            "10/10 - 1s - loss: 0.3999 - accuracy: 0.9167 - 565ms/epoch - 56ms/step\n",
            "Epoch 23/50\n",
            "10/10 - 1s - loss: 0.3313 - accuracy: 0.9333 - 542ms/epoch - 54ms/step\n",
            "Epoch 24/50\n",
            "10/10 - 1s - loss: 0.3493 - accuracy: 0.9333 - 541ms/epoch - 54ms/step\n",
            "Epoch 25/50\n",
            "10/10 - 1s - loss: 0.2935 - accuracy: 0.9567 - 547ms/epoch - 55ms/step\n",
            "Epoch 26/50\n",
            "10/10 - 1s - loss: 0.2621 - accuracy: 0.9633 - 667ms/epoch - 67ms/step\n",
            "Epoch 27/50\n",
            "10/10 - 1s - loss: 0.2571 - accuracy: 0.9467 - 711ms/epoch - 71ms/step\n",
            "Epoch 28/50\n",
            "10/10 - 1s - loss: 0.2109 - accuracy: 0.9633 - 708ms/epoch - 71ms/step\n",
            "Epoch 29/50\n",
            "10/10 - 1s - loss: 0.1944 - accuracy: 0.9633 - 733ms/epoch - 73ms/step\n",
            "Epoch 30/50\n",
            "10/10 - 1s - loss: 0.2633 - accuracy: 0.9567 - 588ms/epoch - 59ms/step\n",
            "Epoch 31/50\n",
            "10/10 - 1s - loss: 0.1950 - accuracy: 0.9733 - 550ms/epoch - 55ms/step\n",
            "Epoch 32/50\n",
            "10/10 - 1s - loss: 0.1530 - accuracy: 0.9867 - 537ms/epoch - 54ms/step\n",
            "Epoch 33/50\n",
            "10/10 - 1s - loss: 0.1394 - accuracy: 0.9867 - 534ms/epoch - 53ms/step\n",
            "Epoch 34/50\n",
            "10/10 - 1s - loss: 0.1209 - accuracy: 0.9900 - 538ms/epoch - 54ms/step\n",
            "Epoch 35/50\n",
            "10/10 - 1s - loss: 0.1111 - accuracy: 0.9833 - 551ms/epoch - 55ms/step\n",
            "Epoch 36/50\n",
            "10/10 - 1s - loss: 0.1052 - accuracy: 0.9933 - 525ms/epoch - 52ms/step\n",
            "Epoch 37/50\n",
            "10/10 - 1s - loss: 0.1041 - accuracy: 0.9933 - 547ms/epoch - 55ms/step\n",
            "Epoch 38/50\n",
            "10/10 - 1s - loss: 0.1025 - accuracy: 0.9933 - 536ms/epoch - 54ms/step\n",
            "Epoch 39/50\n",
            "10/10 - 1s - loss: 0.0893 - accuracy: 0.9933 - 530ms/epoch - 53ms/step\n",
            "Epoch 40/50\n",
            "10/10 - 1s - loss: 0.0881 - accuracy: 0.9900 - 561ms/epoch - 56ms/step\n",
            "Epoch 41/50\n",
            "10/10 - 1s - loss: 0.0911 - accuracy: 0.9867 - 512ms/epoch - 51ms/step\n",
            "Epoch 42/50\n",
            "10/10 - 1s - loss: 0.0864 - accuracy: 0.9900 - 558ms/epoch - 56ms/step\n",
            "Epoch 43/50\n",
            "10/10 - 1s - loss: 0.0985 - accuracy: 0.9800 - 560ms/epoch - 56ms/step\n",
            "Epoch 44/50\n",
            "10/10 - 1s - loss: 0.0713 - accuracy: 0.9933 - 875ms/epoch - 88ms/step\n",
            "Epoch 45/50\n",
            "10/10 - 1s - loss: 0.0610 - accuracy: 1.0000 - 969ms/epoch - 97ms/step\n",
            "Epoch 46/50\n",
            "10/10 - 1s - loss: 0.0556 - accuracy: 0.9967 - 794ms/epoch - 79ms/step\n",
            "Epoch 47/50\n",
            "10/10 - 1s - loss: 0.0552 - accuracy: 0.9967 - 728ms/epoch - 73ms/step\n",
            "Epoch 48/50\n",
            "10/10 - 1s - loss: 0.0479 - accuracy: 1.0000 - 709ms/epoch - 71ms/step\n",
            "Epoch 49/50\n",
            "10/10 - 1s - loss: 0.0418 - accuracy: 1.0000 - 758ms/epoch - 76ms/step\n",
            "Epoch 50/50\n",
            "10/10 - 1s - loss: 0.0392 - accuracy: 1.0000 - 598ms/epoch - 60ms/step\n"
          ]
        },
        {
          "output_type": "execute_result",
          "data": {
            "text/plain": [
              "<keras.callbacks.History at 0x7fe154631f00>"
            ]
          },
          "metadata": {},
          "execution_count": 22
        }
      ]
    },
    {
      "cell_type": "code",
      "source": [
        "model.save(\"face_trained.h5\")"
      ],
      "metadata": {
        "id": "xb_VoI8cW_Zc"
      },
      "execution_count": 23,
      "outputs": []
    },
    {
      "cell_type": "markdown",
      "source": [
        "## Testing Model with Test Dataset"
      ],
      "metadata": {
        "id": "Rp8YpOXxpkQy"
      }
    },
    {
      "cell_type": "code",
      "source": [
        "model = load_model(\"face_trained.h5\")"
      ],
      "metadata": {
        "id": "jUzpQ3Nb2eVm"
      },
      "execution_count": 24,
      "outputs": []
    },
    {
      "cell_type": "code",
      "source": [
        "model_loss, model_accuracy = model.evaluate(X_test, y_test, verbose=2)\n",
        "print(f'''\n",
        "  Loss: {model_loss}\n",
        "  Acc: {model_accuracy}\n",
        "''')"
      ],
      "metadata": {
        "colab": {
          "base_uri": "https://localhost:8080/"
        },
        "id": "F0H2707Rmc9E",
        "outputId": "f2b08e97-cf6a-46dd-b635-dff8ac76fa42"
      },
      "execution_count": 25,
      "outputs": [
        {
          "output_type": "stream",
          "name": "stdout",
          "text": [
            "4/4 - 0s - loss: 0.4867 - accuracy: 0.8200 - 85ms/epoch - 21ms/step\n",
            "\n",
            "  Loss: 0.48667392134666443\n",
            "  Acc: 0.8199999928474426\n",
            "\n"
          ]
        }
      ]
    }
  ],
  "metadata": {
    "kernelspec": {
      "display_name": "tf_env",
      "language": "python",
      "name": "python3"
    },
    "language_info": {
      "codemirror_mode": {
        "name": "ipython",
        "version": 3
      },
      "file_extension": ".py",
      "mimetype": "text/x-python",
      "name": "python",
      "nbconvert_exporter": "python",
      "pygments_lexer": "ipython3",
      "version": "3.10.11"
    },
    "orig_nbformat": 4,
    "colab": {
      "provenance": [],
      "include_colab_link": true
    }
  },
  "nbformat": 4,
  "nbformat_minor": 0
}